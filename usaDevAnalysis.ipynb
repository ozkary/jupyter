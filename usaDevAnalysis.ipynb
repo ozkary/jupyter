{
 "cells": [
  {
   "cell_type": "markdown",
   "metadata": {},
   "source": [
    "This notebook is used the Stack Overflow Annual Developer Survey in 2020 (https://insights.stackoverflow.com/survey)\n",
    "The purpose of this notebook is to define and anwser 3 real world questions that are different than the example blog post from Josh Bernhard (https://medium.com/@josh_2774/how-do-you-become-a-developer-5ef1c1c68711), which used 2017 data. Josh questions as below\n",
    "      How to break into the field ?\n",
    "      How do the different method related to salary and job satisfaction ?\n",
    "      What biases did the respondents have in suggesting different methods ?\n",
    "My plan for this notebook is to answer the below questions about United State Developers:\n",
    "       What company type offer the highest pay ?\n",
    "       what is the relationship of working remotely and salary ?\n",
    "       Does big companies offer higher salary for the same job ?\n",
    "       What are the top 3 skills for hardward and software engineers ?"
   ]
  },
  {
   "cell_type": "code",
   "execution_count": null,
   "metadata": {
    "scrolled": true
   },
   "outputs": [],
   "source": [
    "import numpy as np\n",
    "import pandas as pd\n",
    "import seaborn as sns\n",
    "from collections import defaultdict\n",
    "import matplotlib.pyplot as plt\n",
    "%matplotlib inline\n",
    "from sklearn.linear_model import LinearRegression\n",
    "from sklearn.model_selection import train_test_split\n",
    "from sklearn.metrics import r2_score, mean_squared_error\n",
    "\n",
    "\n",
    "df = pd.read_csv('./survey_results_public.csv')\n",
    "pd.set_option(\"max_columns\", None)\n",
    "#pd.set_option(\"max_colwidth\", None)\n",
    "df.head(5)\n"
   ]
  },
  {
   "cell_type": "code",
   "execution_count": null,
   "metadata": {},
   "outputs": [],
   "source": [
    "# get usa data frame\n",
    "dfUSA = df.loc[df['Country']==\"United States\",  ['Salary', 'HomeRemote','CompanyType','YearsProgram', 'FormalEducation','EmploymentStatus']]\n",
    "dfUSA = dfUSA.dropna()\n",
    "dfUSA.head()"
   ]
  },
  {
   "cell_type": "markdown",
   "metadata": {},
   "source": [
    "# What company type offer the highest pay?"
   ]
  },
  {
   "cell_type": "code",
   "execution_count": null,
   "metadata": {},
   "outputs": [],
   "source": [
    "# clean up\n",
    "serExclude = [\"I don't know\",\"I prefer not to answer\",\"Something else\"]\n",
    "dfHighSal = dfUSA[~dfUSA['CompanyType'].isin(serExclude)]\n",
    "dfHighSal = dfHighSal.groupby(\"CompanyType\")['Salary'].max().sort_values(ascending=False)\n",
    "dfHighSal.head()"
   ]
  },
  {
   "cell_type": "code",
   "execution_count": null,
   "metadata": {},
   "outputs": [],
   "source": [
    "dfHighSal.plot(kind='bar',x='CompanyType',y='Salary')\n",
    "\n",
    "plt.ylabel('Salaries')\n",
    "plt.xlabel('Company Type')\n",
    "plt.title('Company Type Highest Pay')\n",
    "plt.show()"
   ]
  },
  {
   "source": [
    "# what is the relationship of working remotely and salary?"
   ],
   "cell_type": "markdown",
   "metadata": {}
  },
  {
   "cell_type": "code",
   "execution_count": null,
   "metadata": {},
   "outputs": [],
   "source": [
    "dfRemote = dfUSA.loc[dfUSA['HomeRemote'] != \"Never\",['HomeRemote','Salary']]\n",
    "dfRemote = dfRemote.groupby(\"HomeRemote\")['Salary'].mean().sort_values(ascending=False)\n",
    "dfRemote.head(5)\n",
    "\n"
   ]
  },
  {
   "cell_type": "code",
   "execution_count": null,
   "metadata": {},
   "outputs": [],
   "source": [
    "\n",
    "dfRemote.plot(kind='barh',x='HomeRemote',y='Salary')\n",
    "plt.xlabel('Salaries')\n",
    "plt.ylabel('Remote Work')\n",
    "plt.title('Remote work vs Salary')\n",
    "plt.show()\n"
   ]
  },
  {
   "cell_type": "code",
   "execution_count": null,
   "metadata": {},
   "outputs": [],
   "source": []
  }
 ],
 "metadata": {
  "kernelspec": {
   "name": "python3",
   "display_name": "Python 2.7.17 64-bit",
   "metadata": {
    "interpreter": {
     "hash": "5c3b02fa24688d32a1d09351b7f8eac82a87272ad081601c73caead00a8e1fc4"
    }
   }
  },
  "language_info": {
   "codemirror_mode": {
    "name": "ipython",
    "version": 3
   },
   "file_extension": ".py",
   "mimetype": "text/x-python",
   "name": "python",
   "nbconvert_exporter": "python",
   "pygments_lexer": "ipython3",
   "version": "2.7.17-final"
  }
 },
 "nbformat": 4,
 "nbformat_minor": 4
}